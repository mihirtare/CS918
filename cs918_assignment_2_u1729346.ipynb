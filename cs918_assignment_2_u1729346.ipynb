{
 "cells": [
  {
   "cell_type": "markdown",
   "metadata": {},
   "source": [
    "# CS918 : Natural Language Processing\n",
    "# Assignment 2\n",
    "# u1729346"
   ]
  },
  {
   "cell_type": "markdown",
   "metadata": {},
   "source": [
    "## Importing Libraries and the Data"
   ]
  },
  {
   "cell_type": "markdown",
   "metadata": {},
   "source": [
    "Note: dev-data is used for cross-validation in LSTM "
   ]
  },
  {
   "cell_type": "code",
   "execution_count": 31,
   "metadata": {},
   "outputs": [
    {
     "name": "stderr",
     "output_type": "stream",
     "text": [
      "[nltk_data] Downloading package wordnet to /Users/MT/nltk_data...\n",
      "[nltk_data]   Package wordnet is already up-to-date!\n",
      "[nltk_data] Downloading package averaged_perceptron_tagger to\n",
      "[nltk_data]     /Users/MT/nltk_data...\n",
      "[nltk_data]   Package averaged_perceptron_tagger is already up-to-\n",
      "[nltk_data]       date!\n"
     ]
    }
   ],
   "source": [
    "import json\n",
    "import re\n",
    "import math\n",
    "import nltk\n",
    "import os\n",
    "import pandas as pd\n",
    "from nltk.corpus import stopwords as StopwordsLoader\n",
    "from nltk.tokenize.casual import TweetTokenizer\n",
    "import numpy as np\n",
    "import matplotlib.pyplot as plt\n",
    "\n",
    "nltk.download(\"wordnet\")\n",
    "nltk.download(\"averaged_perceptron_tagger\")\n",
    "\n",
    "DEV_LOCATION = os.path.join(\"semeval-tweets\",\"twitter-dev-data.txt\")\n",
    "TRAIN_LOCATION = os.path.join(\"semeval-tweets\",\"twitter-training-data.txt\")"
   ]
  },
  {
   "cell_type": "code",
   "execution_count": 32,
   "metadata": {},
   "outputs": [],
   "source": [
    "# Read the data into a pandas DataFrame\n",
    "with open(DEV_LOCATION) as p:\n",
    "    dev = pd.read_csv(p, sep=\"\\t\", names=[\"id\", \"sentiment\", \"tweet\"])\n",
    "with open(TRAIN_LOCATION) as n:\n",
    "    train = pd.read_csv(n, sep=\"\\t\", names=[\"id\", \"sentiment\", \"tweet\"])"
   ]
  },
  {
   "cell_type": "markdown",
   "metadata": {},
   "source": [
    "Get a barplot of the target variable"
   ]
  },
  {
   "cell_type": "code",
   "execution_count": 159,
   "metadata": {},
   "outputs": [
    {
     "data": {
      "text/plain": [
       "<matplotlib.axes._subplots.AxesSubplot at 0x1a2ef60518>"
      ]
     },
     "execution_count": 159,
     "metadata": {},
     "output_type": "execute_result"
    },
    {
     "data": {
      "image/png": "[encoded data removed]",
      "text/plain": [
       "<Figure size 432x288 with 1 Axes>"
      ]
     },
     "metadata": {
      "needs_background": "light"
     },
     "output_type": "display_data"
    }
   ],
   "source": [
    "train['sentiment'].value_counts().plot(kind='bar')"
   ]
  },
  {
   "cell_type": "markdown",
   "metadata": {},
   "source": [
    "## Text Pre-Processing\n",
    "Removing all numeric words, single letter words, @mentions and non-alphanumeric characters except spaces. Hashtags are not removed completely because they often contain some information."
   ]
  },
  {
   "cell_type": "code",
   "execution_count": 63,
   "metadata": {},
   "outputs": [],
   "source": [
    "# Removal of non-alphanumeric characters except spaces, @s, #s and emojis: \n",
    "        # ([.,\\!$%\\^&\\*\\(\\)=\\-_`~\\+\\{\\}<>\\?:;\\'\\\"\\[\\]\\|]\"))\n",
    "# Removal of URLs ('http[s]?://(?:[a-zA-Z]|[0-9]|[$-_@.&+]|[!*\\(\\),]|(?:%[0-9a-fA-F][0-9a-fA-F]))+')\n",
    "# Removal of single letter words: (\\b\\w\\b)\n",
    "\n",
    "def pre_process_data(data):    \n",
    "    url_pattern = re.compile(r'http[s]?://(?:[a-zA-Z]|[0-9]|[$-_@.&+]|[!*\\(\\),]|(?:%[0-9a-fA-F][0-9a-fA-F]))+')\n",
    "    an_pattern = re.compile(r\"[.,\\!$%\\^&\\*\\(\\)=\\-_`~\\+\\{\\}<>\\?:;\\'\\\"\\[\\]\\|]\")\n",
    "    sl_pattern = re.compile(r\"(\\b\\w\\b)\")\n",
    "    update_dict = dict()\n",
    "    count = 1\n",
    "    total = data.shape[0]\n",
    "    \n",
    "    for tweet in data['tweet']:\n",
    "        print(str(round((count/total)*100)) + \"%\", end='\\r')\n",
    "        count += 1\n",
    "        update = url_pattern.sub(\" \", tweet)\n",
    "        update = an_pattern.sub(\"\", update)\n",
    "        update = sl_pattern.sub(\"\", update)\n",
    "        update = update.replace(\"/\", \" \")\n",
    "        update = update.replace(\"\\\\\", \"\")\n",
    "        update_dict[tweet] = update.lower()\n",
    "        \n",
    "    data['tweet'] = data['tweet'].map(update_dict.get)\n",
    "    # Inefficient  \n",
    "#    data.replace({'tweet':update_dict})    \n",
    "\n",
    "    return data"
   ]
  },
  {
   "cell_type": "markdown",
   "metadata": {},
   "source": [
    "## Tokenization and Lemmatization\n",
    "TweetTokenizer works the same as word_tokenize, but allows us to keep @mention's and #hashtags intact (as one token) and tokenize emoji's individually, which will be useful."
   ]
  },
  {
   "cell_type": "code",
   "execution_count": 34,
   "metadata": {},
   "outputs": [],
   "source": [
    "def tokenize_data(data):\n",
    "    text_tokens = []\n",
    "    tt = TweetTokenizer()\n",
    "    count = 1\n",
    "    total = data.shape[0]\n",
    "\n",
    "    for text in data['tweet']:\n",
    "        print(str(round((count/total)*100)) + \"%\", end='\\r')\n",
    "        count += 1\n",
    "        text_tokens.append(tt.tokenize(text))\n",
    "    \n",
    "    return text_tokens"
   ]
  },
  {
   "cell_type": "markdown",
   "metadata": {},
   "source": [
    "lemmatize_sentence removes stop words from tokenized representations and then lemmatizes the rest of the tokens"
   ]
  },
  {
   "cell_type": "code",
   "execution_count": 35,
   "metadata": {
    "scrolled": false
   },
   "outputs": [],
   "source": [
    "def lemmatize_data(data, lm, stop_words):\n",
    "    lemmatized_sentences = []\n",
    "    count = 1\n",
    "    total = data.shape[0]\n",
    "\n",
    "    for tokens in data['text_tokens']:\n",
    "        print(str(round((count/total)*100)) + \"%\", end='\\r')\n",
    "        count += 1\n",
    "        lemmatized_sentences.append(lemmatize_sentence(tokens, lm, stop_words))\n",
    "    \n",
    "    return lemmatized_sentences\n",
    "\n",
    "def lemmatize_sentence(tokens, lm, stop_words):\n",
    "    lemmatized_sentence = []\n",
    "    \n",
    "    for word, tag in nltk.tag.pos_tag(tokens):\n",
    "        if word.lower() in stop_words:\n",
    "            continue\n",
    "        if tag.startswith('N'):\n",
    "            pos = nltk.corpus.wordnet.NOUN\n",
    "        elif tag.startswith('V'):\n",
    "            pos = nltk.corpus.wordnet.VERB\n",
    "        else:\n",
    "            pos = nltk.corpus.wordnet.ADJ\n",
    "        \n",
    "        update = lm.lemmatize(word, pos)\n",
    "        lemmatized_sentence.append(update)\n",
    "\n",
    "    return lemmatized_sentence"
   ]
  },
  {
   "cell_type": "markdown",
   "metadata": {},
   "source": [
    "Combining previous methods"
   ]
  },
  {
   "cell_type": "code",
   "execution_count": 36,
   "metadata": {},
   "outputs": [
    {
     "name": "stdout",
     "output_type": "stream",
     "text": [
      "Cleaning Tweets... \n",
      "Tokenizing Tweets... \n",
      "Lemmatizing Tweets... \n",
      "Complete.\n",
      "\n",
      "Cleaning Tweets... \n",
      "Tokenizing Tweets... \n",
      "Lemmatizing Tweets... \n",
      "Complete.\n",
      "\n"
     ]
    }
   ],
   "source": [
    "def clean_tweets(data, lemmatize=True):\n",
    "    print(\"Cleaning Tweets... \")\n",
    "    data.update(pre_process_data(data))\n",
    "    print(\"Tokenizing Tweets... \")\n",
    "    data[\"text_tokens\"] = tokenize_data(data)\n",
    "    \n",
    "    if lemmatize:\n",
    "        lm = nltk.stem.WordNetLemmatizer()\n",
    "        stop_words = StopwordsLoader.words(\"English\")\n",
    "        print(\"Lemmatizing Tweets... \")   \n",
    "        data[\"text_tokens\"].update(lemmatize_data(data, lm, stop_words))\n",
    "\n",
    "    print(\"Complete.\\n\")  \n",
    "    return data"
   ]
  },
  {
   "cell_type": "code",
   "execution_count": 65,
   "metadata": {},
   "outputs": [
    {
     "data": {
      "text/plain": [
       "((45026, 4), (2000, 4))"
      ]
     },
     "execution_count": 65,
     "metadata": {},
     "output_type": "execute_result"
    }
   ],
   "source": [
    "dev.update(clean_tweets(dev))\n",
    "train.update(clean_tweets(train))\n",
    "train.shape, dev.shape"
   ]
  },
  {
   "cell_type": "markdown",
   "metadata": {},
   "source": [
    "## Visualising the Extracted Tokens"
   ]
  },
  {
   "cell_type": "code",
   "execution_count": 8,
   "metadata": {},
   "outputs": [
    {
     "name": "stdout",
     "output_type": "stream",
     "text": [
      "[('tomorrow', 5789), ('may', 5507), ('go', 4894), ('get', 3720), ('day', 3545), ('see', 2955), ('im', 2819), ('like', 2531), ('night', 2513), ('time', 2303), ('1st', 2163), ('sunday', 2127), ('friday', 2073), ('make', 2034), ('watch', 1976), ('come', 1961), ('one', 1934), ('say', 1934), ('good', 1931), ('new', 1703)]\n"
     ]
    },
    {
     "data": {
      "image/png": "[encoded data removed]",
      "text/plain": [
       "<Figure size 432x288 with 1 Axes>"
      ]
     },
     "metadata": {
      "needs_background": "light"
     },
     "output_type": "display_data"
    },
    {
     "data": {
      "image/png": "[encoded data removed]",
      "text/plain": [
       "<Figure size 432x288 with 1 Axes>"
      ]
     },
     "metadata": {
      "needs_background": "light"
     },
     "output_type": "display_data"
    }
   ],
   "source": [
    "def plot_most_common(data):\n",
    "    %matplotlib inline\n",
    "    all_words = []\n",
    "\n",
    "    for tokens_list in data['text_tokens']:\n",
    "        for token in tokens_list:\n",
    "            all_words.append(token)\n",
    "\n",
    "    all_freq_dist = nltk.FreqDist(all_words)\n",
    "    print(all_freq_dist.most_common(20))\n",
    "    all_freq_dist.plot(20, cumulative=False, label=\"20 Most Common Words\")\n",
    "\n",
    "    long_freq_dist = nltk.FreqDist([x for x in all_words if (len(x) > 4)])\n",
    "    long_freq_dist.plot(20, cumulative=False, label=\"20 Most Common Words (Longer than 4 Letters)\")\n",
    "\n",
    "plot_most_common(train)"
   ]
  },
  {
   "cell_type": "markdown",
   "metadata": {},
   "source": [
    "## Constructing a Naive Bayes Classifier\n",
    "NLTK Naive Bayes Classifier needs the tokens to be in a dictionary indicating the presence of those tokens\n",
    "\n"
   ]
  },
  {
   "cell_type": "code",
   "execution_count": 49,
   "metadata": {},
   "outputs": [],
   "source": [
    "import random\n",
    "\n",
    "def init_dict(tokens_data):\n",
    "    for tokens_list in tokens_data:\n",
    "        yield dict([token, True] for token in tokens_list)\n",
    "\n",
    "def get_tweets_dict(data):\n",
    "    ret = []\n",
    "    tweets_dict = init_dict(data['text_tokens'])\n",
    "    i = -1\n",
    "    for tweets in tweets_dict:\n",
    "        i+=1\n",
    "        ret.append((tweets, data['sentiment'][i]))\n",
    "    return ret\n",
    "\n",
    "def train_bayes_classifier(train_data):\n",
    "    train_dict = get_tweets_dict(train_data)\n",
    "    return nltk.NaiveBayesClassifier.train(train_dict)\n",
    "\n",
    "def get_bayes_predictions(classifier, test_data):\n",
    "    n# Get predictions in desired dictionary format\n",
    "    predictions ={}\n",
    "    test_dict = get_tweets_dict(test_data)\n",
    "    \n",
    "    for index in range(len(test_data)):\n",
    "        tweetid = str(test_data['id'][index])\n",
    "        prediction = classifier.classify(test_dict[index][0])\n",
    "        predictions[tweetid] = prediction\n",
    "        \n",
    "    return predictions\n",
    "\n",
    "\n",
    "bayes_classifier = train_bayes_classifier(train)"
   ]
  },
  {
   "cell_type": "markdown",
   "metadata": {},
   "source": [
    "## Testing using testsets.py and evaluation.py"
   ]
  },
  {
   "cell_type": "code",
   "execution_count": 147,
   "metadata": {},
   "outputs": [
    {
     "name": "stdout",
     "output_type": "stream",
     "text": [
      "Cleaning Tweets... \n",
      "Tokenizing Tweets... \n",
      "Lemmatizing Tweets... \n",
      "Complete.\n",
      "\n",
      "semeval-tweets/twitter-test1.txt (Naive Bayes Classifier): 0.542\n",
      "            positive  negative  neutral\n",
      "positive    0.484     0.084     0.432     \n",
      "negative    0.179     0.434     0.387     \n",
      "neutral     0.385     0.157     0.458     \n",
      "\n",
      "Cleaning Tweets... \n",
      "Tokenizing Tweets... \n",
      "Lemmatizing Tweets... \n",
      "Complete.\n",
      "\n",
      "semeval-tweets/twitter-test2.txt (Naive Bayes Classifier): 0.547\n",
      "            positive  negative  neutral\n",
      "positive    0.570     0.068     0.362     \n",
      "negative    0.271     0.394     0.335     \n",
      "neutral     0.524     0.088     0.388     \n",
      "\n",
      "Cleaning Tweets... \n",
      "Tokenizing Tweets... \n",
      "Lemmatizing Tweets... \n",
      "Complete.\n",
      "\n",
      "semeval-tweets/twitter-test3.txt (Naive Bayes Classifier): 0.517\n",
      "            positive  negative  neutral\n",
      "positive    0.518     0.077     0.406     \n",
      "negative    0.237     0.332     0.430     \n",
      "neutral     0.404     0.179     0.417     \n",
      "\n"
     ]
    }
   ],
   "source": [
    "from evaluation import evaluate, confusion\n",
    "import testsets\n",
    "\n",
    "for testset in testsets.testsets:\n",
    "    TEST_LOCATION = os.path.join(\"semeval-tweets\",testset)\n",
    "    with open(TEST_LOCATION) as k:\n",
    "        test = pd.read_csv(k, sep=\"\\t\", names=[\"id\", \"sentiment\", \"tweet\"])\n",
    "    test.update(clean_tweets(test))\n",
    "\n",
    "    predictions = get_bayes_predictions(bayes_classifier, test)\n",
    "    evaluate(predictions, TEST_LOCATION, \"Naive Bayes Classifier\")\n",
    "    confusion(predictions, TEST_LOCATION, \"Naive Bayes Classifier\")"
   ]
  },
  {
   "cell_type": "markdown",
   "metadata": {},
   "source": [
    "# Constructing a RNN with LSTM and GloVe embedding"
   ]
  },
  {
   "cell_type": "code",
   "execution_count": 107,
   "metadata": {},
   "outputs": [],
   "source": [
    "from keras.preprocessing.sequence import pad_sequences\n",
    "from keras.models import Sequential\n",
    "from keras.layers import Dense, Flatten, LSTM, Embedding, Activation\n",
    "from keras.c import Tokenizer\n",
    "from keras.optimizers import RMSprop, Adam"
   ]
  },
  {
   "cell_type": "markdown",
   "metadata": {},
   "source": [
    "## Pre-Processing for Deep Learning"
   ]
  },
  {
   "cell_type": "markdown",
   "metadata": {},
   "source": [
    "Removing all @mentions, #hashtags and non-alphanumeric characters"
   ]
  },
  {
   "cell_type": "code",
   "execution_count": 68,
   "metadata": {
    "scrolled": true
   },
   "outputs": [
    {
     "name": "stdout",
     "output_type": "stream",
     "text": [
      "Removing Non-Alphanumeric Characters...\n",
      "Complete.\n",
      "Removing Non-Alphanumeric Characters...\n",
      "Complete.\n"
     ]
    }
   ],
   "source": [
    "def remove_all_non_alphanumeric(data):\n",
    "    print(\"Removing Non-Alphanumeric Characters...\")\n",
    "    pattern_mentions_hashtags = re.compile(r'([@#0-9][\\w]+)')\n",
    "    pattern_other = re.compile(r'[^a-zA-Z\\s]')\n",
    "    \n",
    "    update_dict = dict()\n",
    "    count = 1\n",
    "    total = data.shape[0]\n",
    "\n",
    "    for tweet in data['tweet']:\n",
    "        print(str(round((count/total)*100)) + \"%\", end='\\r')\n",
    "        count += 1\n",
    "        update = pattern_mentions_hashtags.sub(\"\", tweet)\n",
    "        update = pattern_other.sub(\"\", update)\n",
    "        update_dict[tweet] = update\n",
    "        \n",
    "    data['tweet'] = data['tweet'].map(update_dict.get)\n",
    "    print(\"Complete.\")\n",
    "    return data\n",
    "\n",
    "lstm_train = train\n",
    "lstm_dev = dev\n",
    "lstm_train.update(remove_all_non_alphanumeric(lstm_train))\n",
    "lstm_dev.update(remove_all_non_alphanumeric(lstm_dev))"
   ]
  },
  {
   "cell_type": "markdown",
   "metadata": {},
   "source": [
    "## Creating an Embedding Matrix"
   ]
  },
  {
   "cell_type": "markdown",
   "metadata": {},
   "source": [
    "Obtain training and test data for keras"
   ]
  },
  {
   "cell_type": "code",
   "execution_count": 150,
   "metadata": {},
   "outputs": [],
   "source": [
    "def get_tweets_for_LSTM_training(data):\n",
    "    X = list(data['tweet'])\n",
    "    y = pd.get_dummies(data['sentiment'], dtype='float32').values\n",
    "\n",
    "    tk = Tokenizer(num_words=5000, oov_token='<OOV>')\n",
    "    tk.fit_on_texts(X)\n",
    "    X = tk.texts_to_sequences(X)\n",
    "    \n",
    "    max_words = len(tk.word_index) + 1\n",
    "    \n",
    "    X = pad_sequences(X, padding='post', maxlen=93)\n",
    "    \n",
    "    return X, y, max_words, tk\n",
    "\n",
    "def get_tweets_for_LSTM_test(data, tk):\n",
    "    X = list(data['tweet'])\n",
    "    y = pd.get_dummies(data['sentiment'], dtype='float32').values\n",
    "    \n",
    "    X = tk.texts_to_sequences(X)\n",
    "    X = pad_sequences(X, padding='post', maxlen=93)\n",
    "    \n",
    "    return X, y"
   ]
  },
  {
   "cell_type": "code",
   "execution_count": 151,
   "metadata": {},
   "outputs": [],
   "source": [
    "X_train, y_train, max_words, tokenizer = get_tweets_for_LSTM_training(lstm_train)\n",
    "X_dev, y_dev = get_tweets_for_LSTM_test(lstm_dev, tokenizer)"
   ]
  },
  {
   "cell_type": "markdown",
   "metadata": {},
   "source": [
    "Map words to their vector representation"
   ]
  },
  {
   "cell_type": "code",
   "execution_count": 88,
   "metadata": {},
   "outputs": [],
   "source": [
    "embeddings_dict = dict()\n",
    "embedding_dim = 100\n",
    "\n",
    "GLOVE_LOCATION = os.path.join(\"data\",\"glove.6B.100d.txt\")\n",
    "glove_file = open(GLOVE_LOCATION, encoding=\"utf8\")\n",
    "\n",
    "for line in glove_file:\n",
    "    records = line.split()\n",
    "    word = records[0]\n",
    "    coefs = np.asarray(records[1:], dtype='float32')\n",
    "    embeddings_dict[word] = coefs\n",
    "    \n",
    "glove_file.close()"
   ]
  },
  {
   "cell_type": "markdown",
   "metadata": {},
   "source": [
    "Create Embedding Matrix"
   ]
  },
  {
   "cell_type": "code",
   "execution_count": 148,
   "metadata": {},
   "outputs": [
    {
     "name": "stdout",
     "output_type": "stream",
     "text": [
      "39796 10125\n"
     ]
    }
   ],
   "source": [
    "def get_embedding_matrix(embeddings_dict, max_words, embedding_dim):\n",
    "    embedding_matrix = np.zeros((max_words, embedding_dim))\n",
    "\n",
    "    for word, index in tk.word_index.items():\n",
    "        embedding_vector = embeddings_dict.get(word)\n",
    "        if embedding_vector is not None:\n",
    "            embedding_matrix[index] = embedding_vector    \n",
    "\n",
    "    return embedding_matrix\n",
    "\n",
    "embedding_matrix = get_embedding_matrix(embeddings_dict, max_words, embedding_dim)"
   ]
  },
  {
   "cell_type": "markdown",
   "metadata": {},
   "source": [
    "Fitting a sequential model"
   ]
  },
  {
   "cell_type": "code",
   "execution_count": 152,
   "metadata": {},
   "outputs": [
    {
     "name": "stdout",
     "output_type": "stream",
     "text": [
      "Model: \"sequential_41\"\n",
      "_________________________________________________________________\n",
      "Layer (type)                 Output Shape              Param #   \n",
      "=================================================================\n",
      "embedding_31 (Embedding)     (None, 93, 100)           3979600   \n",
      "_________________________________________________________________\n",
      "lstm_40 (LSTM)               (None, 100)               80400     \n",
      "_________________________________________________________________\n",
      "dense_40 (Dense)             (None, 3)                 303       \n",
      "=================================================================\n",
      "Total params: 4,060,303\n",
      "Trainable params: 80,703\n",
      "Non-trainable params: 3,979,600\n",
      "_________________________________________________________________\n",
      "None\n",
      "Epoch 1/5\n",
      "352/352 [==============================] - 75s 213ms/step - loss: 1.0514 - accuracy: 0.4588 - val_loss: 1.0404 - val_accuracy: 0.4595\n",
      "Epoch 2/5\n",
      "352/352 [==============================] - 69s 195ms/step - loss: 1.0375 - accuracy: 0.4606 - val_loss: 1.0398 - val_accuracy: 0.4595\n",
      "Epoch 3/5\n",
      "352/352 [==============================] - 67s 190ms/step - loss: 1.0372 - accuracy: 0.4608 - val_loss: 1.0404 - val_accuracy: 0.4595\n",
      "Epoch 4/5\n",
      "352/352 [==============================] - 64s 181ms/step - loss: 1.0371 - accuracy: 0.4608 - val_loss: 1.0398 - val_accuracy: 0.4595\n",
      "Epoch 5/5\n",
      "352/352 [==============================] - 65s 185ms/step - loss: 1.0368 - accuracy: 0.4608 - val_loss: 1.0402 - val_accuracy: 0.4595\n"
     ]
    }
   ],
   "source": [
    "embedding_layer = Embedding(max_words, embedding_dim, weights=[embedding_matrix], input_length=93 , trainable=False)\n",
    "\n",
    "LSTM_model = Sequential()\n",
    "\n",
    "LSTM_model.add(embedding_layer)\n",
    "LSTM_model.add(LSTM(100))\n",
    "LSTM_model.add(Dense(3, activation='softmax'))\n",
    "\n",
    "opt = RMSprop(learning_rate=0.01)\n",
    "LSTM_model.compile(optimizer=opt, loss='categorical_crossentropy', metrics=['accuracy'])\n",
    "\n",
    "print(LSTM_model.summary())\n",
    "\n",
    "history = LSTM_model.fit(X_train, y_train, batch_size=128, epochs=5, verbose=1, validation_data=(X_dev, y_dev))"
   ]
  },
  {
   "cell_type": "markdown",
   "metadata": {},
   "source": [
    "## Testing using testsets.py and evaluation.py"
   ]
  },
  {
   "cell_type": "code",
   "execution_count": 155,
   "metadata": {},
   "outputs": [
    {
     "name": "stdout",
     "output_type": "stream",
     "text": [
      "Cleaning Tweets... \n",
      "Tokenizing Tweets... \n",
      "Complete.\n",
      "\n",
      "            positive  negative  neutral\n",
      "positive    0.000     0.000     0.000     \n",
      "negative    0.000     0.000     0.000     \n",
      "neutral     0.416     0.158     0.426     \n",
      "\n",
      "semeval-tweets/twitter-test1.txt (LSTM): 0.000\n",
      "111/111 [==============================] - 2s 20ms/step - loss: 1.0308 - accuracy: 0.4259\n",
      "Test set\n",
      "  Score: 1.0308107137680054 \n",
      "  Accuracy: 0.4259416460990906\n",
      "Cleaning Tweets... \n",
      "Tokenizing Tweets... \n",
      "Complete.\n",
      "\n",
      "            positive  negative  neutral\n",
      "positive    0.000     0.000     0.000     \n",
      "negative    0.000     0.000     0.000     \n",
      "neutral     0.530     0.109     0.361     \n",
      "\n",
      "semeval-tweets/twitter-test2.txt (LSTM): 0.000\n",
      "58/58 [==============================] - 1s 22ms/step - loss: 1.0191 - accuracy: 0.3610\n",
      "Test set\n",
      "  Score: 1.0191476345062256 \n",
      "  Accuracy: 0.36103615164756775\n",
      "Cleaning Tweets... \n",
      "Tokenizing Tweets... \n",
      "Complete.\n",
      "\n",
      "            positive  negative  neutral\n",
      "positive    0.000     0.000     0.000     \n",
      "negative    0.000     0.000     0.000     \n",
      "neutral     0.434     0.153     0.413     \n",
      "\n",
      "semeval-tweets/twitter-test3.txt (LSTM): 0.000\n",
      "75/75 [==============================] - 2s 21ms/step - loss: 1.0310 - accuracy: 0.4132\n",
      "Test set\n",
      "  Score: 1.0309867858886719 \n",
      "  Accuracy: 0.4131988286972046\n"
     ]
    }
   ],
   "source": [
    "from evaluation import evaluate, confusion\n",
    "import testsets\n",
    "\n",
    "classes = ['negative', 'neutral', 'positive']\n",
    "predictions = {}\n",
    "\n",
    "for testset in testsets.testsets:\n",
    "    TEST_LOCATION = os.path.join(\"semeval-tweets\",testset)\n",
    "    \n",
    "    with open(TEST_LOCATION) as k:\n",
    "        test = pd.read_csv(k, sep=\"\\t\", names=[\"id\", \"sentiment\", \"tweet\"])\n",
    "    \n",
    "    test.update(clean_tweets(test, lemmatize=False))  \n",
    "    \n",
    "    X_test, y_test = get_tweets_for_LSTM_test(test, tk)\n",
    "    prediction = LSTM_model.predict(X_test)\n",
    "    \n",
    "    for index in range(len(y_test)):\n",
    "        tweetid = str(test['id'][index])\n",
    "        j = np.argmax(prediction[index])\n",
    "        predictions[tweetid] = classes[j]\n",
    "    \n",
    "    confusion(predictions, TEST_LOCATION, \"LSTM\")\n",
    "    evaluate(predictions, TEST_LOCATION, \"LSTM\")\n",
    "    score = LSTM_model.evaluate(X_test, y_test)\n",
    "    print('Test set\\n  Score:', score[0], '\\n  Accuracy:', score[1])"
   ]
  },
  {
   "cell_type": "markdown",
   "metadata": {},
   "source": [
    "## LSTM with dropout and Adam Optimizer"
   ]
  },
  {
   "cell_type": "code",
   "execution_count": 156,
   "metadata": {},
   "outputs": [
    {
     "name": "stdout",
     "output_type": "stream",
     "text": [
      "Model: \"sequential_42\"\n",
      "_________________________________________________________________\n",
      "Layer (type)                 Output Shape              Param #   \n",
      "=================================================================\n",
      "embedding_31 (Embedding)     (None, 93, 100)           3979600   \n",
      "_________________________________________________________________\n",
      "lstm_41 (LSTM)               (None, 93, 64)            42240     \n",
      "_________________________________________________________________\n",
      "flatten_26 (Flatten)         (None, 5952)              0         \n",
      "_________________________________________________________________\n",
      "dense_41 (Dense)             (None, 3)                 17859     \n",
      "=================================================================\n",
      "Total params: 4,039,699\n",
      "Trainable params: 60,099\n",
      "Non-trainable params: 3,979,600\n",
      "_________________________________________________________________\n",
      "None\n",
      "Epoch 1/10\n",
      "352/352 [==============================] - 71s 201ms/step - loss: 0.8510 - accuracy: 0.5949 - val_loss: 0.8038 - val_accuracy: 0.6225\n",
      "Epoch 2/10\n",
      "352/352 [==============================] - 80s 227ms/step - loss: 0.7839 - accuracy: 0.6394 - val_loss: 0.7889 - val_accuracy: 0.6350\n",
      "Epoch 3/10\n",
      "352/352 [==============================] - 100s 285ms/step - loss: 0.7425 - accuracy: 0.6640 - val_loss: 0.7701 - val_accuracy: 0.6515\n",
      "Epoch 4/10\n",
      "352/352 [==============================] - 91s 257ms/step - loss: 0.7086 - accuracy: 0.6815 - val_loss: 0.7807 - val_accuracy: 0.6485\n",
      "Epoch 5/10\n",
      "352/352 [==============================] - 95s 269ms/step - loss: 0.6797 - accuracy: 0.6976 - val_loss: 0.8025 - val_accuracy: 0.6385\n",
      "Epoch 6/10\n",
      "352/352 [==============================] - 79s 224ms/step - loss: 0.6536 - accuracy: 0.7120 - val_loss: 0.7974 - val_accuracy: 0.6470\n",
      "Epoch 7/10\n",
      "352/352 [==============================] - 75s 213ms/step - loss: 0.6310 - accuracy: 0.7236 - val_loss: 0.8230 - val_accuracy: 0.6420\n",
      "Epoch 8/10\n",
      "352/352 [==============================] - 69s 195ms/step - loss: 0.6095 - accuracy: 0.7329 - val_loss: 0.8303 - val_accuracy: 0.6400\n",
      "Epoch 9/10\n",
      "352/352 [==============================] - 69s 195ms/step - loss: 0.5905 - accuracy: 0.7443 - val_loss: 0.8604 - val_accuracy: 0.6340\n",
      "Epoch 10/10\n",
      "352/352 [==============================] - 61s 174ms/step - loss: 0.5730 - accuracy: 0.7507 - val_loss: 0.8720 - val_accuracy: 0.6360\n"
     ]
    }
   ],
   "source": [
    "LSTM_model2 = Sequential()\n",
    "\n",
    "LSTM_model2.add(embedding_layer)\n",
    "LSTM_model2.add(LSTM(64, dropout=0.1, recurrent_dropout=0.1, return_sequences=True))\n",
    "LSTM_model2.add(Flatten())\n",
    "LSTM_model2.add(Dense(3, activation='softmax'))\n",
    "\n",
    "opt = Adam(learning_rate=0.005, beta_1=0.9, beta_2=0.999)\n",
    "LSTM_model2.compile(optimizer=opt, loss='categorical_crossentropy', metrics=['accuracy'])\n",
    "\n",
    "print(LSTM_model2.summary())\n",
    "\n",
    "history2 = LSTM_model2.fit(X_train, y_train, batch_size=128, epochs=10, verbose=1, validation_data=(X_dev, y_dev))"
   ]
  },
  {
   "cell_type": "markdown",
   "metadata": {},
   "source": [
    "## Testing using testsets.py and evaluation.py"
   ]
  },
  {
   "cell_type": "code",
   "execution_count": 157,
   "metadata": {},
   "outputs": [
    {
     "name": "stdout",
     "output_type": "stream",
     "text": [
      "Cleaning Tweets... \n",
      "Tokenizing Tweets... \n",
      "Complete.\n",
      "\n",
      "            positive  negative  neutral\n",
      "positive    0.721     0.061     0.218     \n",
      "negative    0.212     0.549     0.239     \n",
      "neutral     0.284     0.146     0.570     \n",
      "\n",
      "semeval-tweets/twitter-test1.txt (LSTM2): 0.520\n",
      "111/111 [==============================] - 2s 20ms/step - loss: 0.8563 - accuracy: 0.6304\n",
      "Test set\n",
      "  Score: 0.8562581539154053 \n",
      "  Accuracy: 0.6304163336753845\n",
      "Cleaning Tweets... \n",
      "Tokenizing Tweets... \n",
      "Complete.\n",
      "\n",
      "            positive  negative  neutral\n",
      "positive    0.760     0.043     0.197     \n",
      "negative    0.213     0.583     0.204     \n",
      "neutral     0.396     0.106     0.498     \n",
      "\n",
      "semeval-tweets/twitter-test2.txt (LSTM2): 0.529\n",
      "58/58 [==============================] - 1s 20ms/step - loss: 0.8454 - accuracy: 0.6325\n",
      "Test set\n",
      "  Score: 0.8453859090805054 \n",
      "  Accuracy: 0.6324878334999084\n",
      "Cleaning Tweets... \n",
      "Tokenizing Tweets... \n",
      "Complete.\n",
      "\n",
      "            positive  negative  neutral\n",
      "positive    0.722     0.067     0.212     \n",
      "negative    0.215     0.454     0.331     \n",
      "neutral     0.338     0.132     0.530     \n",
      "\n",
      "semeval-tweets/twitter-test3.txt (LSTM2): 0.492\n",
      "75/75 [==============================] - 1s 20ms/step - loss: 0.9405 - accuracy: 0.5956\n",
      "Test set\n",
      "  Score: 0.9404898285865784 \n",
      "  Accuracy: 0.5956284403800964\n"
     ]
    }
   ],
   "source": [
    "from evaluation import evaluate, confusion\n",
    "import testsets\n",
    "\n",
    "classes = ['negative', 'neutral', 'positive']\n",
    "predictions = {}\n",
    "\n",
    "for testset in testsets.testsets:\n",
    "    TEST_LOCATION = os.path.join(\"semeval-tweets\",testset)\n",
    "    \n",
    "    with open(TEST_LOCATION) as k:\n",
    "        test = pd.read_csv(k, sep=\"\\t\", names=[\"id\", \"sentiment\", \"tweet\"])\n",
    "    \n",
    "    test.update(clean_tweets(test, lemmatize=False))  \n",
    "    \n",
    "    X_test, y_test = get_tweets_for_LSTM_test(test, tk)\n",
    "    prediction = LSTM_model2.predict(X_test)\n",
    "    \n",
    "    for index in range(len(y_test)):\n",
    "        tweetid = str(test['id'][index])\n",
    "        j = np.argmax(prediction[index])\n",
    "        predictions[tweetid] = classes[j]\n",
    "    \n",
    "    confusion(predictions, TEST_LOCATION, \"LSTM2\")\n",
    "    evaluate(predictions, TEST_LOCATION, \"LSTM2\")\n",
    "    score = LSTM_model2.evaluate(X_test, y_test)\n",
    "    print('Test set\\n  Score:', score[0], '\\n  Accuracy:', score[1])"
   ]
  },
  {
   "cell_type": "markdown",
   "metadata": {},
   "source": [
    "Plots to diagnose model"
   ]
  },
  {
   "cell_type": "code",
   "execution_count": 158,
   "metadata": {},
   "outputs": [
    {
     "data": {
      "image/png": "[encoded data removed]",
      "text/plain": [
       "<Figure size 432x288 with 1 Axes>"
      ]
     },
     "metadata": {
      "needs_background": "light"
     },
     "output_type": "display_data"
    },
    {
     "data": {
      "image/png": "[encoded data removed]",
      "text/plain": [
       "<Figure size 432x288 with 1 Axes>"
      ]
     },
     "metadata": {
      "needs_background": "light"
     },
     "output_type": "display_data"
    }
   ],
   "source": [
    "plt.title('Loss')\n",
    "plt.plot(history2.history['loss'], label='training')\n",
    "plt.plot(history2.history['val_loss'], label='validation')\n",
    "plt.legend()\n",
    "plt.show()\n",
    "\n",
    "plt.title('Accuracy')\n",
    "plt.plot(history2.history['accuracy'], label='training')\n",
    "plt.plot(history2.history['val_accuracy'], label='validation')\n",
    "plt.legend()\n",
    "plt.show()"
   ]
  },
  {
   "cell_type": "code",
   "execution_count": null,
   "metadata": {},
   "outputs": [],
   "source": []
  }
 ],
 "metadata": {
  "kernelspec": {
   "display_name": "Python 3",
   "language": "python",
   "name": "python3"
  },
  "language_info": {
   "codemirror_mode": {
    "name": "ipython",
    "version": 3
   },
   "file_extension": ".py",
   "mimetype": "text/x-python",
   "name": "python",
   "nbconvert_exporter": "python",
   "pygments_lexer": "ipython3",
   "version": "3.6.10"
  }
 },
 "nbformat": 4,
 "nbformat_minor": 4
}
